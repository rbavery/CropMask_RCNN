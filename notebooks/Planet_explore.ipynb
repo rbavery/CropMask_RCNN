{
 "cells": [
  {
   "cell_type": "code",
   "execution_count": null,
   "metadata": {},
   "outputs": [],
   "source": [
    "import os\n",
    "import skimage.io as skio\n",
    "import skimage.exposure\n",
    "DATASET_DIR = '/home/rave/tana-crunch/waves/cropmask/data/'\n",
    "PLANET_IMAGERY = os.path.join(DATASET_DIR,'planet-za')\n",
    "WV2_LABELS = os.path.join(DATASET_DIR, 'raw/wv2/gridded_wv2_labels')\n",
    "planet_img_list = os.listdir(PLANET_IMAGERY)\n",
    "wv2_labels_list = os.listdir(WV2_LABELS)"
   ]
  },
  {
   "cell_type": "markdown",
   "metadata": {},
   "source": [
    "### Need to match growing season planet imagery with correct labels and deal with the mismatch in extent due to bufferring. Figure out why buffering was implemented. Apply cloud masking and remove scenes with too much no data that coincides with labels (may need a simpler method of tossing out data just based on amount of no data). Figure out why not exact match between grid lists with Tammy."
   ]
  },
  {
   "cell_type": "code",
   "execution_count": null,
   "metadata": {},
   "outputs": [],
   "source": [
    "label_ids = sorted([labelid[0:9] for labelid in wv2_labels_list])\n",
    "img_ids = sorted([imgid[0:9] for imgid in planet_img_list if 'GS' in imgid])\n",
    "\n",
    "print(len(label_ids))\n",
    "print(len(img_ids))\n",
    "list(set(img_ids).intersection(img_ids))\n"
   ]
  },
  {
   "cell_type": "code",
   "execution_count": null,
   "metadata": {},
   "outputs": [],
   "source": [
    "label_ids"
   ]
  },
  {
   "cell_type": "code",
   "execution_count": null,
   "metadata": {},
   "outputs": [],
   "source": [
    "sorted(img_ids)"
   ]
  },
  {
   "cell_type": "code",
   "execution_count": null,
   "metadata": {},
   "outputs": [],
   "source": [
    "matches = []\n",
    "for label, img in zip(label_ids, img_ids):\n",
    "    if label == img:\n",
    "        matches.append(label)\n",
    "len(matches)"
   ]
  },
  {
   "cell_type": "code",
   "execution_count": null,
   "metadata": {},
   "outputs": [],
   "source": [
    "matches"
   ]
  },
  {
   "cell_type": "code",
   "execution_count": null,
   "metadata": {},
   "outputs": [],
   "source": [
    "import numpy as np\n",
    "import matplotlib.pyplot as plt\n",
    "from skimage import exposure\n",
    "\n",
    "def percentile_rescale(arr):\n",
    "    '''\n",
    "    Rescales and applies other exposure functions to improve image vis. \n",
    "    http://scikit-image.org/docs/dev/api/skimage.exposure.html#skimage.exposure.rescale_intensity\n",
    "    '''\n",
    "    rescaled_arr = np.zeros_like(arr)\n",
    "    for i in range(0,arr.shape[-1]):\n",
    "        val_range = (np.percentile(arr[:,:,i], 0), np.percentile(arr[:,:,i], 99))\n",
    "        rescaled_channel = exposure.rescale_intensity(arr[:,:,i], val_range)\n",
    "        rescaled_arr[:,:,i] = rescaled_channel\n",
    "        #rescaled_arr= exposure.adjust_gamma(rescaled_arr, gamma=1) #adjust from 1 either way\n",
    "#     rescaled_arr= exposure.adjust_sigmoid(rescaled_arr, cutoff=.50) #adjust from .5 either way \n",
    "    return rescaled_arr\n",
    "\n",
    "for img_name in planet_img_list[::25]:\n",
    "    img = skio.imread(img_name)\n",
    "    r = img[:,:,2]\n",
    "    g = img[:,:,1]\n",
    "    b = img[:,:,0]\n",
    "    img = np.dstack([r/r.max(),g/g.max(),b/b.max()])\n",
    "    img[img < 0] = 0\n",
    "    img = percentile_rescale(img)\n",
    "    plt.figure()\n",
    "    skio.imshow(img, cmap='brg')"
   ]
  },
  {
   "cell_type": "code",
   "execution_count": null,
   "metadata": {},
   "outputs": [],
   "source": [
    "img.shape"
   ]
  },
  {
   "cell_type": "code",
   "execution_count": null,
   "metadata": {},
   "outputs": [],
   "source": []
  },
  {
   "cell_type": "code",
   "execution_count": null,
   "metadata": {},
   "outputs": [],
   "source": []
  },
  {
   "cell_type": "code",
   "execution_count": null,
   "metadata": {},
   "outputs": [],
   "source": []
  }
 ],
 "metadata": {
  "kernelspec": {
   "display_name": "Python [conda env:anaconda3]",
   "language": "python",
   "name": "conda-env-anaconda3-py"
  },
  "language_info": {
   "codemirror_mode": {
    "name": "ipython",
    "version": 3
   },
   "file_extension": ".py",
   "mimetype": "text/x-python",
   "name": "python",
   "nbconvert_exporter": "python",
   "pygments_lexer": "ipython3",
   "version": "3.6.4"
  }
 },
 "nbformat": 4,
 "nbformat_minor": 2
}

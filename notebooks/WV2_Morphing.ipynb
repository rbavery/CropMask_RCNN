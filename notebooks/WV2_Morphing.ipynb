{
 "cells": [
  {
   "cell_type": "code",
   "execution_count": 1,
   "metadata": {
    "scrolled": false
   },
   "outputs": [
    {
     "ename": "ImportError",
     "evalue": "No module named 'skimage'",
     "output_type": "error",
     "traceback": [
      "\u001b[0;31m---------------------------------------------------------------------------\u001b[0m",
      "\u001b[0;31mImportError\u001b[0m                               Traceback (most recent call last)",
      "\u001b[0;32m<ipython-input-1-501b9e1da0f6>\u001b[0m in \u001b[0;36m<module>\u001b[0;34m()\u001b[0m\n\u001b[1;32m      4\u001b[0m \u001b[0;32mimport\u001b[0m \u001b[0mmath\u001b[0m\u001b[0;34m\u001b[0m\u001b[0m\n\u001b[1;32m      5\u001b[0m \u001b[0;32mimport\u001b[0m \u001b[0mnumpy\u001b[0m \u001b[0;32mas\u001b[0m \u001b[0mnp\u001b[0m\u001b[0;34m\u001b[0m\u001b[0m\n\u001b[0;32m----> 6\u001b[0;31m \u001b[0;32mfrom\u001b[0m \u001b[0mskimage\u001b[0m \u001b[0;32mimport\u001b[0m \u001b[0mio\u001b[0m\u001b[0;34m,\u001b[0m \u001b[0mmeasure\u001b[0m\u001b[0;34m,\u001b[0m \u001b[0msegmentation\u001b[0m\u001b[0;34m\u001b[0m\u001b[0m\n\u001b[0m\u001b[1;32m      7\u001b[0m \u001b[0;32mfrom\u001b[0m \u001b[0mscipy\u001b[0m \u001b[0;32mimport\u001b[0m \u001b[0mndimage\u001b[0m\u001b[0;34m\u001b[0m\u001b[0m\n\u001b[1;32m      8\u001b[0m \u001b[0;32mfrom\u001b[0m \u001b[0mskimage\u001b[0m\u001b[0;34m.\u001b[0m\u001b[0mfeature\u001b[0m \u001b[0;32mimport\u001b[0m \u001b[0mpeak_local_max\u001b[0m\u001b[0;34m\u001b[0m\u001b[0m\n",
      "\u001b[0;31mImportError\u001b[0m: No module named 'skimage'"
     ]
    }
   ],
   "source": [
    "import os\n",
    "import sys\n",
    "import random\n",
    "import math\n",
    "import numpy as np\n",
    "from skimage import io, measure, segmentation\n",
    "from scipy import ndimage\n",
    "from skimage.feature import peak_local_max\n",
    "import matplotlib\n",
    "import matplotlib.pyplot as plt\n",
    "import copy\n",
    "import cv2\n",
    "%matplotlib inline\n",
    "\n",
    "GROUNDTRUTH_DIR = '../data/raw/stephtest-subset/Groundtruth/'\n",
    "file_ids_all = next(os.walk(GROUNDTRUTH_DIR))[2]\n",
    "count = 1\n",
    "for i in file_ids_all:\n",
    "    path = GROUNDTRUTH_DIR+i \n",
    "    mask_arr = io.imread(path)\n",
    "    kernel88 = np.ones((8,8),np.uint8)\n",
    "    opened_arr_26 = cv2.morphologyEx(mask_arr, cv2.MORPH_OPEN, kernel88, iterations=1)\n",
    "    blobs_labels = measure.label(opened_arr_26, background=0)\n",
    "    \n",
    "    plt.figure(figsize=(19, 3.5))\n",
    "    plt.subplot(131)\n",
    "    plt.imshow(mask_arr)\n",
    "    plt.axis('off')\n",
    "    \n",
    "# watershed very inconsistent  \n",
    "#     plt.subplot(132)\n",
    "#     distance = ndimage.distance_transform_edt(mask_arr)\n",
    "#     local_max = peak_local_max(distance, labels=mask_arr\n",
    "#             , footprint=np.ones((3,3)), indices=False)\n",
    "#     structure8 = np.ones((3,3))\n",
    "#     markers = ndimage.label(local_max, structure=structure8)[1]\n",
    "#     wlabels = segmentation.watershed(-distance,markers,mask=mask_arr)\n",
    "#     plt.imshow(wlabels, cmap='rainbow')\n",
    "#     plt.axis('off')\n",
    "    \n",
    "    plt.subplot(133)\n",
    "    plt.imshow(blobs_labels, cmap='rainbow')\n",
    "    plt.axis('off')\n",
    "    plt.title('Number of Unique Objects Identified '+str(np.unique(blobs_labels)))\n",
    "    count += 1\n",
    "    plt.tight_layout()\n",
    "    \n",
    "    "
   ]
  },
  {
   "cell_type": "code",
   "execution_count": 5,
   "metadata": {},
   "outputs": [
    {
     "data": {
      "text/plain": [
       "512"
      ]
     },
     "execution_count": 5,
     "metadata": {},
     "output_type": "execute_result"
    }
   ],
   "source": [
    "len(file_ids_all)"
   ]
  },
  {
   "cell_type": "code",
   "execution_count": null,
   "metadata": {},
   "outputs": [],
   "source": [
    "arr_26 = threshold(heatmap_arr,.26)\n",
    "plt.figure()\n",
    "ski.imshow(arr_26)\n",
    "plt.title('Threshold .26, not eroded')\n",
    "kernel88 = np.ones((8,8),np.uint8)\n",
    "opened_arr_26 = cv2.morphologyEx(arr_26, cv2.MORPH_OPEN, kernel88)\n",
    "plt.figure()\n",
    "ski.imshow(opened_arr_26)\n",
    "plt.title('Opened with 8x8 Kernel')"
   ]
  },
  {
   "cell_type": "code",
   "execution_count": null,
   "metadata": {},
   "outputs": [],
   "source": [
    "from skimage import measure\n",
    "\n",
    "all_labels = measure.label(opened_arr_26)\n",
    "blobs_labels = measure.label(opened_arr_26, background=0)\n",
    "\n",
    "plt.figure(figsize=(9, 3.5))\n",
    "plt.subplot(131)\n",
    "plt.imshow(opened_arr_26, cmap='gray')\n",
    "plt.axis('off')\n",
    "plt.subplot(132)\n",
    "plt.imshow(all_labels, cmap='spectral')\n",
    "plt.axis('off')\n",
    "plt.subplot(133)\n",
    "plt.imshow(blobs_labels, cmap='spectral')\n",
    "plt.axis('off')\n",
    "\n",
    "plt.tight_layout()\n",
    "plt.show()"
   ]
  }
 ],
 "metadata": {
  "kernelspec": {
   "display_name": "Python 3",
   "language": "python",
   "name": "python3"
  },
  "language_info": {
   "codemirror_mode": {
    "name": "ipython",
    "version": 3
   },
   "file_extension": ".py",
   "mimetype": "text/x-python",
   "name": "python",
   "nbconvert_exporter": "python",
   "pygments_lexer": "ipython3",
   "version": "3.5.2"
  }
 },
 "nbformat": 4,
 "nbformat_minor": 2
}

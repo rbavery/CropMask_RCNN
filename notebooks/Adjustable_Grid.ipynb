{
 "cells": [
  {
   "cell_type": "markdown",
   "metadata": {},
   "source": [
    "Because image chips of size 25x256 appear to small to segment fields that can rang efrom 8x8 to 256x256 pixels, we need a variable gridding program to see how input size effects output model accuracy."
   ]
  },
  {
   "cell_type": "code",
   "execution_count": null,
   "metadata": {},
   "outputs": [],
   "source": [
    "from affine import Affine\n",
    "import mercantile\n",
    "\n",
    "import rasterio\n",
    "from rasterio.enums import Resampling\n",
    "from rasterio.vrt import WarpedVRT\n",
    "import os\n",
    "\n",
    "# change your root directory\n",
    "ROOT_DIR = \"/home/rave/tana-crunch/waves/cropmask/data/raw/wv2/\"\n",
    "# create folders below ahead of time\n",
    "os.chdir(ROOT_DIR)\n",
    "WV2_IMAGERY_DIR = 'projectedtiffs/'\n",
    "LABELS_DIR = 'rasterized_wv2_labels'\n",
    "OUT_WV2_DIR = 'adjusted_gridded_tifs'\n",
    "OUT_LABELS_DIR = 'adjusted_gridded_labels'\n"
   ]
  },
  {
   "cell_type": "code",
   "execution_count": null,
   "metadata": {},
   "outputs": [],
   "source": [
    "import random\n",
    "random.randint(100000000,999999999)"
   ]
  },
  {
   "cell_type": "code",
   "execution_count": null,
   "metadata": {},
   "outputs": [],
   "source": [
    "img_list = sorted(next(os.walk(WV2_IMAGERY_DIR))[2])\n",
    "off_list = [img for img in img_list if 'OS' in img]\n",
    "gs_list = [img for img in img_list if 'GS' in img]\n",
    "label_list = sorted(next(os.walk(LABELS_DIR))[2])"
   ]
  },
  {
   "cell_type": "code",
   "execution_count": null,
   "metadata": {},
   "outputs": [],
   "source": [
    "import os, gdal\n",
    "\n",
    "for off, gs, label in zip(off_list, gs_list, label_list):\n",
    "    off_path = os.path.join(WV2_IMAGERY_DIR,off)\n",
    "    gs_path = os.path.join(WV2_IMAGERY_DIR,gs)\n",
    "    label_path = os.path.join(LABELS_DIR,label)\n",
    "    #assign unique name to each gridded tif, keeping season suffix\n",
    "    #assigning int of same length as ZA0932324 naming convention\n",
    "\n",
    "    tile_size_x = 512\n",
    "    tile_size_y = 512\n",
    "\n",
    "    ds_off = gdal.Open(off_path)\n",
    "    band_off = ds_off.GetRasterBand(1)\n",
    "\n",
    "    ds_gs = gdal.Open(gs_path)\n",
    "    band_gs = ds_gs.GetRasterBand(1)\n",
    "    xsize_gs = band_gs.XSize\n",
    "    ysize_gs = band_gs.YSize   \n",
    "    \n",
    "    ds_label = gdal.Open(label_path)\n",
    "    band_label = ds_label.GetRasterBand(1)\n",
    "\n",
    "\n",
    "    for i in range(0, xsize_gs, tile_size_x):\n",
    "        for j in range(0, ysize_gs, tile_size_y):\n",
    "            unique_id = str(random.randint(100000000,999999999))\n",
    "            out_path_off = os.path.join(OUT_WV2_DIR,unique_id)+ off[2:]\n",
    "            out_path_gs = os.path.join(OUT_WV2_DIR,unique_id)+gs[2:]\n",
    "            out_path_label = os.path.join(OUT_LABELS_DIR,unique_id)+label[2:]\n",
    "            com_string = \"gdal_translate -of GTIFF -srcwin \" + str(i)+ \", \" + str(j) + \", \" + str(tile_size_x) + \", \" + str(tile_size_y) + \" \" + str(off_path) + \" \" + str(out_path_off)\n",
    "            os.system(com_string)\n",
    "            com_string = \"gdal_translate -of GTIFF -srcwin \" + str(i)+ \", \" + str(j) + \", \" + str(tile_size_x) + \", \" + str(tile_size_y) + \" \" + str(gs_path) + \" \" + str(out_path_gs)\n",
    "            os.system(com_string)\n",
    "            com_string = \"gdal_translate -of GTIFF -srcwin \" + str(i)+ \", \" + str(j) + \", \" + str(tile_size_x) + \", \" + str(tile_size_y) + \" \" + str(label_path) + \" \" + str(out_path_label)\n",
    "            os.system(com_string)"
   ]
  }
 ],
 "metadata": {
  "kernelspec": {
   "display_name": "Python [conda env:anaconda3]",
   "language": "python",
   "name": "conda-env-anaconda3-py"
  },
  "language_info": {
   "codemirror_mode": {
    "name": "ipython",
    "version": 3
   },
   "file_extension": ".py",
   "mimetype": "text/x-python",
   "name": "python",
   "nbconvert_exporter": "python",
   "pygments_lexer": "ipython3",
   "version": "3.6.4"
  }
 },
 "nbformat": 4,
 "nbformat_minor": 2
}

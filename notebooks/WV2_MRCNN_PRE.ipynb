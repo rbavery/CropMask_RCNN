{
 "cells": [
  {
   "cell_type": "markdown",
   "metadata": {},
   "source": [
    "### Importing non-mrcnn libraries and setting up directories"
   ]
  },
  {
   "cell_type": "code",
   "execution_count": null,
   "metadata": {},
   "outputs": [],
   "source": [
    "import os\n",
    "import sys\n",
    "import random\n",
    "import numpy as np\n",
    "import skimage.io as skio\n",
    "import matplotlib\n",
    "import matplotlib.pyplot as plt\n",
    "import copy\n",
    "from skimage import measure\n",
    "%matplotlib inline\n",
    "\n",
    "# Root directory of the project\n",
    "ROOT_DIR = os.path.abspath(\"/home/rave/tana-crunch/waves/deepimagery/data/raw/wv2/\")\n",
    "\n",
    "EIGHTCHANNEL_DIR = os.path.join(ROOT_DIR, 'eightchannels')\n",
    "TRAIN_DIR = os.path.join(ROOT_DIR, 'train')\n",
    "TEST_DIR = os.path.join(ROOT_DIR, 'test')\n",
    "WV2_DIR = os.path.join(ROOT_DIR, 'gridded_wv2')\n",
    "LABELS_DIR = os.path.join(ROOT_DIR, 'gridded_wv2_labels')\n",
    "CONNECTED_COMP_DIR = os.path.join(ROOT_DIR, 'connected_comp_labels')\n",
    "OPENED_LABELS_DIR = os.path.join(ROOT_DIR, 'opened_labels')\n",
    "try:\n",
    "    os.mkdir(OPENED_LABELS_DIR)\n",
    "    os.mkdir(CONNECTED_COMP_DIR)\n",
    "    os.mkdir(EIGHTCHANNEL_DIR)\n",
    "    os.mkdir(MODEL_DIR)\n",
    "    os.mkdir(TRAIN_DIR)\n",
    "    os.mkdir(TEST_DIR)\n",
    "    os.mkdir(WV2_DIR)\n",
    "    os.mkdir(LABELS_DIR)\n",
    "except:\n",
    "    FileExistsError\n",
    "\n",
    "os.chdir(ROOT_DIR)"
   ]
  },
  {
   "cell_type": "markdown",
   "metadata": {},
   "source": [
    "### Stacking on/off season pairs into single 8 channel tif files and moving them to 8channel directory. I've rmeoved partial grids, which cuts out over 200 samples, yikes!"
   ]
  },
  {
   "cell_type": "code",
   "execution_count": null,
   "metadata": {},
   "outputs": [],
   "source": [
    "def load_merge_wv2(image_id, source_dir):\n",
    "    \"\"\"Load the specified wv2 os/gs image pairs and return a [H,W,8] \n",
    "    Numpy array. Channels are ordered [B, G, R, NIR, B, G, R, NIR], OS \n",
    "    first.\n",
    "    \"\"\"\n",
    "    # Load image\n",
    "    os_path = source_dir+'/'+image_id+'_MS_OS.tif'\n",
    "    gs_path = source_dir+'/'+image_id+'_MS_GS.tif'\n",
    "    os_image = skio.imread(os_path)\n",
    "    gs_image = skio.imread(gs_path)\n",
    "    # If has more than 4 bands, select correct bands \n",
    "    # will need to provide image config in future\n",
    "    # to programmaticaly use correct band mappings\n",
    "    if os_image.shape[-1] != 4:\n",
    "        os_image = np.dstack((os_image[:,:,1:3],os_image[:,:,4],os_image[:,:,6]))\n",
    "    if gs_image.shape[-1] != 4:\n",
    "        gs_image = np.dstack((gs_image[:,:,1:3],gs_image[:,:,4],gs_image[:,:,6]))\n",
    "    stacked_image = np.dstack((os_image, gs_image))\n",
    "    stacked_image_path = EIGHTCHANNEL_DIR +'/'+ image_id + '_OSGS_ms.tif'\n",
    "    assert stacked_image.ndim == 3\n",
    "    if -1.7e+308 not in stacked_image:\n",
    "        #removes partial grids\n",
    "        skio.imsave(stacked_image_path,stacked_image, plugin='tifffile')\n",
    "    else:\n",
    "        #might try later, keeps partial grids and sets nodata to 0\n",
    "        # but no examples i've seen use partial images for training like this commented code\n",
    "        #stacked_image[stacked_image==-1.7e+308]=0\n",
    "        #skio.imsave(stacked_image_path,stacked_image, plugin='tifffile')\n",
    "# all files, including ones we don't care about\n",
    "file_ids_all = next(os.walk(WV2_DIR))[2]\n",
    "# all multispectral on and off season tifs\n",
    "image_ids_all = [image_id for image_id in file_ids_all if 'MS' in image_id]\n",
    "#check for duplicates\n",
    "assert len(image_ids_all) == len(set(image_ids_all))\n",
    "\n",
    "image_ids_gs = [image_id for image_id in image_ids_all if 'GS' in image_id]\n",
    "image_ids_os = [image_id for image_id in image_ids_all if 'OS' in image_id]\n",
    "\n",
    "#check for equality\n",
    "assert len(image_ids_os) == len(image_ids_gs)\n",
    "\n",
    "image_ids_short = [image_id[0:9] for image_id in image_ids_gs]\n",
    "\n",
    "for imid in image_ids_short:\n",
    "    load_merge_wv2(imid, WV2_DIR)"
   ]
  },
  {
   "cell_type": "code",
   "execution_count": null,
   "metadata": {},
   "outputs": [],
   "source": [
    "def show_arr(image_id):\n",
    "    \"\"\"Load the specified wv2 os/gs image pairs and return a [H,W,8] \n",
    "    Numpy array. Channels are ordered [B, G, R, NIR, B, G, R, NIR], OS \n",
    "    first.\n",
    "    \"\"\"\n",
    "\n",
    "    stacked_image_path = EIGHTCHANNEL_DIR +'/'+ image_id + '_OSGS_ms.tif'\n",
    "\n",
    "    arr = skio.imread(stacked_image_path, plugin='tifffile')\n",
    "    \n",
    "    plt.figure()\n",
    "    arr[arr==-1.7e+308]=0\n",
    "    skio.imshow(arr[:,:,0])\n",
    "    plt.title(str(np.min(arr))+' '+stacked_image_path)\n",
    "    return arr\n",
    "# for imid in image_ids_short:\n",
    "#     arr = show_arr(imid)"
   ]
  },
  {
   "cell_type": "code",
   "execution_count": null,
   "metadata": {},
   "outputs": [],
   "source": [
    "image_list = next(os.walk(EIGHTCHANNEL_DIR))[2]\n",
    "def move_img_to_folder(filename):\n",
    "    '''Moves a file with identifier pattern ZA0165086_MS_GS.tif to a \n",
    "    folder path ZA0165086/image/ZA0165086_MS_GS.tif\n",
    "    Also creates a masks folder at ZA0165086/masks'''\n",
    "    \n",
    "    folder_name = os.path.join(TRAIN_DIR,filename[:9])\n",
    "    os.mkdir(folder_name)\n",
    "    new_path = os.path.join(folder_name, 'image')\n",
    "    mask_path = os.path.join(folder_name, 'masks')\n",
    "    os.mkdir(new_path)\n",
    "    file_path = os.path.join(EIGHTCHANNEL_DIR,filename)\n",
    "    os.rename(file_path, os.path.join(new_path, filename))\n",
    "    os.mkdir(mask_path)\n",
    "    \n",
    "for img in image_list:\n",
    "    move_img_to_folder(img)\n",
    "print('done moving images')"
   ]
  },
  {
   "cell_type": "markdown",
   "metadata": {},
   "source": [
    "### Erosion/Dilation to get rid of really small partial fields created due to edge effects"
   ]
  },
  {
   "cell_type": "code",
   "execution_count": null,
   "metadata": {},
   "outputs": [],
   "source": [
    "label_list = next(os.walk(LABELS_DIR))[2]"
   ]
  },
  {
   "cell_type": "code",
   "execution_count": null,
   "metadata": {},
   "outputs": [],
   "source": [
    "from skimage import morphology as skim\n",
    "for name in label_list:\n",
    "    arr = skio.imread(os.path.join(LABELS_DIR,name))\n",
    "    arr[arr == -1.7e+308]=0\n",
    "    label_name = name[0:15]+'.tif'\n",
    "    opened_path = os.path.join(OPENED_LABELS_DIR,name)\n",
    "    kernel = np.ones((5,5))\n",
    "    arr = skim.binary_opening(arr, kernel)\n",
    "    arr=1*arr\n",
    "    assert arr.ndim == 2\n",
    "    skio.imsave(opened_path, 1*arr)"
   ]
  },
  {
   "cell_type": "markdown",
   "metadata": {},
   "source": [
    "### Connected Components on wv2 labels, move them to connected comps folder\n",
    "\n",
    "Does keeping no data from partial grid coverage lead to too much edge effects?\n",
    "Should the arrays be opened before saved as seperate masks? The degree to which they are is a tuning param. "
   ]
  },
  {
   "cell_type": "code",
   "execution_count": null,
   "metadata": {},
   "outputs": [],
   "source": [
    "label_list = next(os.walk(OPENED_LABELS_DIR))[2]"
   ]
  },
  {
   "cell_type": "code",
   "execution_count": null,
   "metadata": {},
   "outputs": [],
   "source": [
    "for name in label_list:\n",
    "    arr = skio.imread(os.path.join(OPENED_LABELS_DIR,name))\n",
    "    blob_labels = measure.label(arr, background=0)\n",
    "    print(blob_labels.shape, 'blob')\n",
    "    blob_vals = np.unique(blob_labels)\n",
    "    for blob_val in blob_vals[blob_vals!=0]:\n",
    "        labels_copy = blob_labels.copy()\n",
    "        labels_copy[blob_labels!=blob_val] = 0\n",
    "        labels_copy[blob_labels==blob_val] = 1\n",
    "        label_name = name[0:15]+str(blob_val)+'.tif'\n",
    "        label_path = os.path.join(CONNECTED_COMP_DIR,label_name)\n",
    "        print(labels_copy.shape, 'copy')\n",
    "        assert labels_copy.ndim == 2\n",
    "        skio.imsave(label_path, labels_copy)"
   ]
  },
  {
   "cell_type": "code",
   "execution_count": null,
   "metadata": {},
   "outputs": [],
   "source": [
    "def move_mask_to_folder(filename):\n",
    "    '''Moves a mask with identifier pattern ZA0165086_label_1.tif to a \n",
    "    folder path ZA0165086/mask/ZA0165086_label_01.tif. Need to run \n",
    "    connected components first.\n",
    "    '''\n",
    "    if os.path.isdir(os.path.join(TRAIN_DIR,filename[:9])):\n",
    "        folder_path = os.path.join(TRAIN_DIR,filename[:9])\n",
    "        mask_path = os.path.join(folder_path, 'masks')\n",
    "        file_path = os.path.join(CONNECTED_COMP_DIR,filename)\n",
    "        os.rename(file_path, os.path.join(mask_path, filename))\n",
    "    \n",
    "mask_list = next(os.walk(CONNECTED_COMP_DIR))[2]\n",
    "for mask in mask_list:\n",
    "    move_mask_to_folder(mask)\n",
    "print('Done moving masks')"
   ]
  },
  {
   "cell_type": "markdown",
   "metadata": {},
   "source": [
    "### After masks are moved, run np.zeros_like to create empty mask from image for folders only where there is no mask. Keras expects mask for each image even if there are no instances. There are over 300 out of 794 grids without any fields, could lead to big class imbalance"
   ]
  },
  {
   "cell_type": "code",
   "execution_count": null,
   "metadata": {},
   "outputs": [],
   "source": [
    "import pandas as pd\n",
    "id_list = next(os.walk(TRAIN_DIR))[1]\n",
    "no_field_list = []\n",
    "for fid in id_list:\n",
    "    mask_folder = os.path.join('train',fid, 'masks')\n",
    "    if not os.listdir(mask_folder): \n",
    "        no_field_list.append(mask_folder)\n",
    "no_field_frame = pd.DataFrame(no_field_list)\n",
    "no_field_frame.to_csv('no_field_list.csv')"
   ]
  },
  {
   "cell_type": "code",
   "execution_count": null,
   "metadata": {},
   "outputs": [],
   "source": [
    "import shutil\n",
    "for fid in id_list:\n",
    "    mask_folder = os.path.join(ROOT_DIR,'train',fid, 'masks')\n",
    "    im_folder = os.path.join(ROOT_DIR,'train',fid, 'image')\n",
    "    if not os.listdir(mask_folder): \n",
    "        im_path = os.path.join(im_folder, os.listdir(im_folder)[0])\n",
    "        arr = skio.imread(im_path)\n",
    "        mask = np.zeros_like(arr[:,:,0])\n",
    "        print(mask.shape)\n",
    "        assert mask.ndim == 2\n",
    "        skio.imsave(os.path.join(mask_folder, fid + '_label_0.tif'),mask)\n",
    "        shutil.rmtree(os.path.join('train',fid)) #removing no field images"
   ]
  },
  {
   "cell_type": "markdown",
   "metadata": {},
   "source": [
    "Calculating mean pixel across all grids for each channel, ignoring nans"
   ]
  },
  {
   "cell_type": "code",
   "execution_count": null,
   "metadata": {},
   "outputs": [],
   "source": [
    "def get_arr_channel_mean(channel):\n",
    "    means = []\n",
    "    for i, fid in enumerate(id_list):\n",
    "        im_folder = os.path.join('train',fid, 'image')\n",
    "        im_path = os.path.join(im_folder, os.listdir(im_folder)[0])\n",
    "        arr = skio.imread(im_path)\n",
    "        arr[arr==-1.7e+308]=np.nan\n",
    "        means.append(np.nanmean(arr[:,:,channel]))\n",
    "    return np.mean(means)\n",
    "print(get_arr_channel_mean(0))\n",
    "print(get_arr_channel_mean(1))\n",
    "print(get_arr_channel_mean(2))\n",
    "print(get_arr_channel_mean(3))\n",
    "print(get_arr_channel_mean(4))\n",
    "print(get_arr_channel_mean(5))\n",
    "print(get_arr_channel_mean(6))\n",
    "print(get_arr_channel_mean(7))\n"
   ]
  },
  {
   "cell_type": "markdown",
   "metadata": {},
   "source": [
    "Plotting connected components"
   ]
  },
  {
   "cell_type": "code",
   "execution_count": null,
   "metadata": {
    "scrolled": true
   },
   "outputs": [],
   "source": [
    "testdir = os.path.join(ROOT_DIR,'train/ZA0953012/masks')\n",
    "labs = next(os.walk(testdir))[2]\n",
    "os.chdir(testdir)\n",
    "for path in labs:\n",
    "    arr = skio.imread(path)\n",
    "    all_labels = measure.label(arr)\n",
    "    plt.figure(figsize=(9, 3.5))\n",
    "    plt.subplot(131)\n",
    "    plt.imshow(arr, cmap='gray')\n",
    "    plt.title(path)\n",
    "    plt.tight_layout()\n",
    "    plt.show()"
   ]
  },
  {
   "cell_type": "code",
   "execution_count": null,
   "metadata": {},
   "outputs": [],
   "source": [
    "os.chdir(LABELS_DIR)\n",
    "for path in label_list[0:50]:\n",
    "    arr = skio.imread(path)\n",
    "    arr[arr == -1.7e+308]=0\n",
    "    all_labels = measure.label(arr)\n",
    "    blob_labels = measure.label(arr, background=0)\n",
    "    plt.figure(figsize=(9, 3.5))\n",
    "    plt.subplot(131)\n",
    "    plt.imshow(arr, cmap='gray')\n",
    "    plt.axis('off')\n",
    "    plt.subplot(132)\n",
    "    plt.imshow(all_labels, cmap='spectral')\n",
    "    plt.axis('off')\n",
    "    plt.subplot(133)\n",
    "    plt.imshow(blob_labels, cmap='spectral')\n",
    "    plt.axis('off')\n",
    "    plt.title(path)\n",
    "    plt.tight_layout()\n",
    "    plt.show()"
   ]
  },
  {
   "cell_type": "markdown",
   "metadata": {},
   "source": [
    "Does keeping no data from partial grid coverage lead to too much edge effects?"
   ]
  },
  {
   "cell_type": "code",
   "execution_count": null,
   "metadata": {},
   "outputs": [],
   "source": [
    "arr[arr == -1.7e+308]=0"
   ]
  },
  {
   "cell_type": "code",
   "execution_count": null,
   "metadata": {},
   "outputs": [],
   "source": [
    "np.unique(arr)"
   ]
  }
 ],
 "metadata": {
  "kernelspec": {
   "display_name": "Python [conda env:anaconda3]",
   "language": "python",
   "name": "conda-env-anaconda3-py"
  },
  "language_info": {
   "codemirror_mode": {
    "name": "ipython",
    "version": 3
   },
   "file_extension": ".py",
   "mimetype": "text/x-python",
   "name": "python",
   "nbconvert_exporter": "python",
   "pygments_lexer": "ipython3",
   "version": "3.6.4"
  }
 },
 "nbformat": 4,
 "nbformat_minor": 2
}

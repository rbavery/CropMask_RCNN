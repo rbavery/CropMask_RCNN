{
 "cells": [
  {
   "cell_type": "code",
   "execution_count": 29,
   "metadata": {},
   "outputs": [],
   "source": [
    "import os\n",
    "import gdal\n",
    "import matplotlib.pyplot as plt\n",
    "import geopandas as gpd\n",
    "import pandas as pd\n",
    "from rasterio import features, coords, plot\n",
    "import rasterio\n",
    "from shapely.geometry import shape\n",
    "from geopy import distance\n",
    "%matplotlib inline\n",
    "\n",
    "# https://gis.stackexchange.com/questions/151339/rasterize-a-shapefile-with-geopandas-or-fiona-python\n",
    "ROOT_DIR = \"/home/rave/deeplearn_imagery/data/raw/stephtest/\"\n",
    "os.chdir(ROOT_DIR)\n",
    "WV2_LABEL_DIR = 'merged_digitized_labels_raster_extents/'\n",
    "WV2_IMAGERY_DIR = 'projectedtiffs/'\n",
    "GRID_PATH = 'wv2_boxes.shp'\n",
    "RASTERIZED_PATH = 'rasterized_wv2_labels/'\n",
    "OUT_PATH = 'gridded_wv2_labels/'\n",
    "# all files, only the projected images\n",
    "items = os.listdir(WV2_LABEL_DIR)\n",
    "\n",
    "merged_list = []\n",
    "for name in items:\n",
    "    if name.endswith(\".shp\"):\n",
    "        merged_list.append(WV2_LABEL_DIR+name)  \n",
    "\n",
    "def takefirst(elem):\n",
    "    return int(elem[-10])\n",
    "\n",
    "shp_list = sorted(merged_list, key=takefirst)\n",
    "frames_list = []\n",
    "for shp_path in shp_list:\n",
    "    \n",
    "    shp_frame = gpd.read_file(shp_path)\n",
    "    shp_frame['file_id'] = shp_path[-10]\n",
    "    frames_list.append(shp_frame)\n",
    "    \n",
    "all_fields = pd.concat(frames_list)\n",
    "\n",
    "#removing data mask\n",
    "all_fields = all_fields[all_fields['DN']!=1]"
   ]
  },
  {
   "cell_type": "code",
   "execution_count": 17,
   "metadata": {},
   "outputs": [
    {
     "data": {
      "text/plain": [
       "Index(['OBJECTID', 'DN', 'id', 'class', 'Shape_Leng', 'Shape_Area', 'geometry',\n",
       "       'file_id'],\n",
       "      dtype='object')"
      ]
     },
     "execution_count": 17,
     "metadata": {},
     "output_type": "execute_result"
    }
   ],
   "source": [
    "all_fields.columns"
   ]
  },
  {
   "cell_type": "code",
   "execution_count": 31,
   "metadata": {},
   "outputs": [
    {
     "data": {
      "text/plain": [
       "<matplotlib.axes._subplots.AxesSubplot at 0x7f25f8bbc240>"
      ]
     },
     "execution_count": 31,
     "metadata": {},
     "output_type": "execute_result"
    },
    {
     "data": {
      "image/png": "[encoded data removed]",
      "text/plain": [
       "<matplotlib.figure.Figure at 0x7f25f8acd128>"
      ]
     },
     "metadata": {},
     "output_type": "display_data"
    }
   ],
   "source": [
    "all_fields[all_fields['Shape_Area']>.00014].plot(column='Shape_Area')"
   ]
  },
  {
   "cell_type": "code",
   "execution_count": 32,
   "metadata": {},
   "outputs": [
    {
     "data": {
      "text/html": [
       "<div>\n",
       "<style scoped>\n",
       "    .dataframe tbody tr th:only-of-type {\n",
       "        vertical-align: middle;\n",
       "    }\n",
       "\n",
       "    .dataframe tbody tr th {\n",
       "        vertical-align: top;\n",
       "    }\n",
       "\n",
       "    .dataframe thead th {\n",
       "        text-align: right;\n",
       "    }\n",
       "</style>\n",
       "<table border=\"1\" class=\"dataframe\">\n",
       "  <thead>\n",
       "    <tr style=\"text-align: right;\">\n",
       "      <th></th>\n",
       "      <th>OBJECTID</th>\n",
       "      <th>DN</th>\n",
       "      <th>id</th>\n",
       "      <th>class</th>\n",
       "      <th>Shape_Leng</th>\n",
       "      <th>Shape_Area</th>\n",
       "      <th>geometry</th>\n",
       "      <th>file_id</th>\n",
       "    </tr>\n",
       "  </thead>\n",
       "  <tbody>\n",
       "    <tr>\n",
       "      <th>71</th>\n",
       "      <td>72</td>\n",
       "      <td>0</td>\n",
       "      <td>903</td>\n",
       "      <td>2</td>\n",
       "      <td>0.053804</td>\n",
       "      <td>0.000141</td>\n",
       "      <td>POLYGON ((28.00883948215642 -25.00566316072621...</td>\n",
       "      <td>2</td>\n",
       "    </tr>\n",
       "  </tbody>\n",
       "</table>\n",
       "</div>"
      ],
      "text/plain": [
       "    OBJECTID  DN   id  class  Shape_Leng  Shape_Area  \\\n",
       "71        72   0  903      2    0.053804    0.000141   \n",
       "\n",
       "                                             geometry file_id  \n",
       "71  POLYGON ((28.00883948215642 -25.00566316072621...       2  "
      ]
     },
     "execution_count": 32,
     "metadata": {},
     "output_type": "execute_result"
    }
   ],
   "source": [
    "all_fields[all_fields['Shape_Area']>.00014]"
   ]
  }
 ],
 "metadata": {
  "kernelspec": {
   "display_name": "Python [conda env:anaconda3]",
   "language": "python",
   "name": "conda-env-anaconda3-py"
  },
  "language_info": {
   "codemirror_mode": {
    "name": "ipython",
    "version": 3
   },
   "file_extension": ".py",
   "mimetype": "text/x-python",
   "name": "python",
   "nbconvert_exporter": "python",
   "pygments_lexer": "ipython3",
   "version": "3.6.4"
  }
 },
 "nbformat": 4,
 "nbformat_minor": 2
}
